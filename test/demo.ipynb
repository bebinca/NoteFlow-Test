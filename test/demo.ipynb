{
 "cells": [
  {
   "cell_type": "code",
   "execution_count": 1,
   "id": "7df49649-b916-4dd4-b170-9543e5cf8801",
   "metadata": {},
   "outputs": [],
   "source": [
    "import pandas as pd"
   ]
  },
  {
   "cell_type": "code",
   "execution_count": 2,
   "id": "288e67f8-7bbf-40de-b22b-5ce12dfee006",
   "metadata": {},
   "outputs": [],
   "source": [
    "df = pd.read_csv('data.csv')"
   ]
  },
  {
   "cell_type": "code",
   "execution_count": 3,
   "id": "ab6c09e5-7c57-4f6c-a94d-57e2e6ce733b",
   "metadata": {},
   "outputs": [],
   "source": [
    "df[\"cylinders\"] = df[\"cylinders\"].fillna(0)"
   ]
  },
  {
   "cell_type": "code",
   "execution_count": 4,
   "id": "c6a9314d-0039-4e44-8747-a821b952d698",
   "metadata": {},
   "outputs": [],
   "source": [
    "df[\"Country_code\"] = df[\"origin\"].replace([1,2,3], [\"U\", \"E\", \"J\"])\n",
    "df_group = df.groupby([\"Country_code\"]).agg({\"mpg\": \"mean\"}).reset_index()"
   ]
  },
  {
   "cell_type": "code",
   "execution_count": 5,
   "id": "396b867b-74e6-4e53-9e3e-ce6148a7d39c",
   "metadata": {},
   "outputs": [],
   "source": [
    "df_copy = df.copy()"
   ]
  }
 ],
 "metadata": {
  "kernelspec": {
   "display_name": "Python 3 (ipykernel)",
   "language": "python",
   "name": "python3"
  },
  "language_info": {
   "codemirror_mode": {
    "name": "ipython",
    "version": 3
   },
   "file_extension": ".py",
   "mimetype": "text/x-python",
   "name": "python",
   "nbconvert_exporter": "python",
   "pygments_lexer": "ipython3",
   "version": "3.11.13"
  }
 },
 "nbformat": 4,
 "nbformat_minor": 5
}
